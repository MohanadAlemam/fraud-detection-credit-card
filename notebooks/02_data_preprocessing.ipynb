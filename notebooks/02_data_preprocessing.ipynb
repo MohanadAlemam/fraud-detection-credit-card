{
 "cells": [
  {
   "metadata": {},
   "cell_type": "markdown",
   "source": [
    "------\n",
    "### 02. Data Preprocessing\n",
    "\n",
    "**Note:**\n",
    "All data preprocessing work is conducted in `src/preprocessing.py` and `src/feature_engineering.py` and used within the exploration and feature engineering notebooks.\n",
    "This notebook is retained only to preserve notebooks’ sequence in the project history and commits.\n",
    "\n",
    "----"
   ],
   "id": "753e6b602f0cf1d7"
  },
  {
   "metadata": {
    "collapsed": true
   },
   "cell_type": "code",
   "source": "%run \"01_data_exploration.ipynb\"",
   "id": "initial_id",
   "outputs": [],
   "execution_count": null
  },
  {
   "metadata": {},
   "cell_type": "code",
   "outputs": [],
   "execution_count": null,
   "source": "%run \"03_feature_engineering.ipynb\"",
   "id": "2324feb650cab289"
  },
  {
   "metadata": {},
   "cell_type": "markdown",
   "source": [
    "---------------\n",
    "Next Step: Feature Engineering → Move to 03.feature_engineering.ipynb\n",
    "\n",
    "--------------"
   ],
   "id": "aa88e70394d31847"
  }
 ],
 "metadata": {
  "kernelspec": {
   "display_name": "Python 3",
   "language": "python",
   "name": "python3"
  },
  "language_info": {
   "codemirror_mode": {
    "name": "ipython",
    "version": 2
   },
   "file_extension": ".py",
   "mimetype": "text/x-python",
   "name": "python",
   "nbconvert_exporter": "python",
   "pygments_lexer": "ipython2",
   "version": "2.7.6"
  }
 },
 "nbformat": 4,
 "nbformat_minor": 5
}
