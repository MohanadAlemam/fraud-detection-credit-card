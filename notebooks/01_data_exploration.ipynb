{
 "cells": [
  {
   "metadata": {},
   "cell_type": "markdown",
   "source": [
    "------\n",
    "# Credit Card Fraud Detection\n",
    "\n",
    "**Project Stage:** Project Setup, Data Understanding and Exploration\n",
    "\n",
    "**Author:** Mohanad Alemam\n",
    "\n",
    "**Date:** 16-10-2025\n",
    "\n",
    "----"
   ],
   "id": "6b40c283fc49a827"
  },
  {
   "metadata": {},
   "cell_type": "markdown",
   "source": "## 00. Project Setup",
   "id": "1d03183ebff18dab"
  },
  {
   "metadata": {},
   "cell_type": "markdown",
   "source": [
    "#### Data Overview:\n",
    "\n",
    "The dataset contains transactions made by credit cards in September 2013 by European cardholders.\n",
    "This dataset presents transactions that occurred in two days, where we have 492 frauds out of 284,807 transactions. The dataset is highly unbalanced, the positive class (frauds) account for 0.172% of all transactions. Due to confidentiality issues, the original features cannot be provided:\n",
    "\n",
    "- Features V1, V2, … V28 are the principal components obtained with PCA, the only features which have not been transformed with PCA are 'Time' and 'Amount'.\n",
    "- Feature 'Time' contains the seconds elapsed between each transaction and the first transaction in the dataset.\n",
    "- feature 'Amount' is the transaction Amount, this feature can be used for example-dependant cost-sensitive learning.\n",
    "- Feature 'Class' is the response variable, and it takes value 1 in case of fraud and 0 otherwise.\n",
    "\n",
    "#### Summary:\n",
    "\n",
    "- Dataset: Credit card transactions (September 2013, European cardholders)\n",
    "- Total transactions: 284,807\n",
    "- Fraud Cases: 492 (0.172%)\n",
    "- Features: 30 numerical (V1-V28 PCA, `Time`, and `Amount`)\n",
    "- Target: `Class` (1 = Fraud, 0 =Non-Fraud)"
   ],
   "id": "c641cbf42782d82a"
  },
  {
   "metadata": {},
   "cell_type": "code",
   "outputs": [],
   "execution_count": null,
   "source": "",
   "id": "8c2d7f18ee3cc711"
  }
 ],
 "metadata": {
  "kernelspec": {
   "display_name": "Python 3",
   "language": "python",
   "name": "python3"
  },
  "language_info": {
   "codemirror_mode": {
    "name": "ipython",
    "version": 2
   },
   "file_extension": ".py",
   "mimetype": "text/x-python",
   "name": "python",
   "nbconvert_exporter": "python",
   "pygments_lexer": "ipython2",
   "version": "2.7.6"
  }
 },
 "nbformat": 4,
 "nbformat_minor": 5
}
