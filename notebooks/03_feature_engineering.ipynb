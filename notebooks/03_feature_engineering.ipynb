{
 "cells": [
  {
   "metadata": {},
   "cell_type": "markdown",
   "source": [
    "----\n",
    "### 02. Feature Engineering\n",
    "\n",
    "**Objective:** To engineer new features from the existing ones `based EDA observations and conclusion` and the nature of each feature, in order to enhance models’ ability to capture subtle hidden patterns and trends improving prediction capabilities.\n",
    "\n",
    "---"
   ],
   "id": "778a38eea82aa894"
  },
  {
   "metadata": {},
   "cell_type": "markdown",
   "source": [
    "Based on the EDA, the following groups of features are candidates for engineering, rationale and engineering methods are also documented:\n",
    "\n",
    "| Group | Feature Names | Rationale | Suitable Engineering |\n",
    "|-------|---------------|-----------|-------------------|\n",
    "| Features with non-overlapping medians | `V4, V9, V10, V11, V12, V14, V16, V17` | These features already show good separation between classes, i.e., they tend to occupy different ranges. Transformations can **enhance this separation** and make the difference between classes clearer. | Squaring or square root transformation |\n",
    "| Highly concentrated (low variance) features | `V2, V5, V7, V8, V20, V21, V23, V27, V28, Amount` | Low variance features may be ignored by models sensitive to variance (e.g., linear models). Scaling ensures these features are **considered during training**. | MinMaxScaler |\n",
    "| Multimodal feature | `Time` | Multiple peaks suggest subtle sub-patterns. Engineering can **capture hidden patterns**. | - Feature extraction: hour of day, day segment <br> - Binning into categories (morning/afternoon/evening/night) |\n",
    "| Heavy-tailed / skewed features | `V1` (skewed to the left) | Outliers could dominate learning, especially for linear models. Transformation reduces the effect of extreme values and **stabilizes the feature**. | - Log-transform <br> - Square root or power transformation |\n"
   ],
   "id": "103ed3285474ce41"
  }
 ],
 "metadata": {
  "kernelspec": {
   "display_name": "Python 3",
   "language": "python",
   "name": "python3"
  },
  "language_info": {
   "codemirror_mode": {
    "name": "ipython",
    "version": 2
   },
   "file_extension": ".py",
   "mimetype": "text/x-python",
   "name": "python",
   "nbconvert_exporter": "python",
   "pygments_lexer": "ipython2",
   "version": "2.7.6"
  }
 },
 "nbformat": 4,
 "nbformat_minor": 5
}
