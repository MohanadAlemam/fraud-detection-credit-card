{
 "cells": [
  {
   "metadata": {},
   "cell_type": "markdown",
   "source": [
    "------\n",
    "# Credit Card Fraud Detection\n",
    "\n",
    "**Description:** Build a Machine Learning model to detect fraudulent credit card transactions and mitigate `fraud risk`.\n",
    "\n",
    "**Dataset:** [Kaggle Credit Card Fraud Detection](https://www.kaggle.com/datasets/mlg-ulb/creditcardfraud)\n",
    "\n",
    "**Author:** Mohanad Alemam\n",
    "\n",
    "**`Note:`** This notebook was originally developed under the name `01_data_exploration.ipynb`.\n",
    "Earlier work, including data overview, formatting of the Markdown table and initial setup, can be found in the Git history of that file [refer to commits [c45b921](https://github.com/MohanadAlemam/fraud-detection-credit-card/commit/c45b9214b116024702900acc15d18f238c0e255f), [447cc31](https://github.com/MohanadAlemam/fraud-detection-credit-card/commit/447cc31e673be80c572a5a45c9fa991f05c650de), and [8eff2fb](https://github.com/MohanadAlemam/fraud-detection-credit-card/commit/8eff2fb7c86cf1a3a23e765cb202334f1f04a7dd). The notebook was renamed for clarity and alignment with content.\n",
    "\n",
    "----"
   ],
   "id": "6b40c283fc49a827"
  },
  {
   "metadata": {},
   "cell_type": "markdown",
   "source": [
    "## 00. Project Setup — Framing the Problem\n",
    "\n",
    "----"
   ],
   "id": "1d03183ebff18dab"
  },
  {
   "metadata": {},
   "cell_type": "markdown",
   "source": [
    "#### Objective Overview\n",
    "\n",
    "The goal of this project is to build a Machine Learning (ML) Model capable of detecting fraudulent credit card transactions. Early detection of fraud assist financial institutions to mitigate `fraud risk` and protect customers.\n",
    "\n",
    "---------------\n"
   ],
   "id": "fbb6ad5a9cde5729"
  },
  {
   "metadata": {},
   "cell_type": "markdown",
   "source": [
    " #### Dataset Overview\n",
    "\n",
    "The dataset contains transactions made by credit cards in September 2013 by European cardholders. The table below highlights the main characteristics in its raw state:\n",
    "\n",
    "| Section                  | Description                                                                                                                                                                                                    |\n",
    "|--------------------------|----------------------------------------------------------------------------------------------------------------------------------------------------------------------------------------------------------------|\n",
    "| **Dataset Source**       | [Credit Card Fraud Detection – Kaggle Dataset](https://www.kaggle.com/datasets/mlg-ulb/creditcardfraud)                                                                                                        |\n",
    "| **Description**          | Contains transactions made by European cardholders in **September 2013**. The dataset covers **two days** of transactions.                                                                                     |\n",
    "| **Size**                 | **284,807 total transactions**, with **492 fraud cases** (≈0.172% fraud rate).                                                                                                                                 |\n",
    "| **Features**             | 30 numerical features: **V1–V28** (principal components PCA), plus **`Time`** and **`Amount`**.                                                                                                               |\n",
    "| **Target Value**         | Target variable is **`Class`** (`1` = Fraud, `0` = Non-fraud).                                                                                                                                                 |\n",
    "| **Confidentiality Note** | Original features were transformed using **PCA** to protect sensitive and confidential customer information. Therefore, the dataset’s feature names do not reveal original transaction details.                |\n",
    "| **Recommended Metrics**  | Due to extreme class imbalance, use **Precision-Recall AUC (AUPRC)** instead of accuracy for performance evaluation.                                                                                           |\n",
    "\n"
   ],
   "id": "c641cbf42782d82a"
  },
  {
   "metadata": {},
   "cell_type": "markdown",
   "source": [
    "`Key Takeaways`\n",
    "\n",
    "- Severe class imbalance — only `0.17%` of transactions are fraudulent.\n",
    "- The dataset’s anonymized PCA-transformed features inhibits `semantic feature engineering` (I can’t interpret what each V1–V28 means).\n",
    "- Focus will therefore be on robust modeling, class weighting, and evaluation metrics (e.g., PR-AUC, Recall) tailored for imbalanced classification.\n",
    "-----"
   ],
   "id": "63887ce737cd0153"
  },
  {
   "metadata": {},
   "cell_type": "markdown",
   "source": [
    "#### Environment and Libraries\n",
    "Initially Required Libraries:\n",
    "- pandas\n",
    "- numpy\n",
    "- matplotlib\n",
    "- scikit-learn"
   ],
   "id": "39574926c6321a3d"
  },
  {
   "metadata": {},
   "cell_type": "markdown",
   "source": [
    "--------------------\n",
    "Next Step: Is Data Exploration → I will load and explore the dataset\n",
    "\n",
    "--------------"
   ],
   "id": "a8e3a9c3946f6e47"
  }
 ],
 "metadata": {
  "kernelspec": {
   "display_name": "Python 3",
   "language": "python",
   "name": "python3"
  },
  "language_info": {
   "codemirror_mode": {
    "name": "ipython",
    "version": 2
   },
   "file_extension": ".py",
   "mimetype": "text/x-python",
   "name": "python",
   "nbconvert_exporter": "python",
   "pygments_lexer": "ipython2",
   "version": "2.7.6"
  }
 },
 "nbformat": 4,
 "nbformat_minor": 5
}
